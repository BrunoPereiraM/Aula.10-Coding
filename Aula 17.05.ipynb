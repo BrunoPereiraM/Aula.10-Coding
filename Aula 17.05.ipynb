{
 "cells": [
  {
   "cell_type": "markdown",
   "metadata": {},
   "source": [
    "1."
   ]
  },
  {
   "cell_type": "markdown",
   "metadata": {},
   "source": [
    "n patinhos foram passear\n",
    "\n",
    "Além, das montanhas para brincar\n",
    "\n",
    "A mamãe gritou: Quá, quá, quá, quá\n",
    "\n",
    "Mas só n-1 patinhos voltaran de lá.\""
   ]
  },
  {
   "cell_type": "markdown",
   "metadata": {},
   "source": [
    "A mamãe patinha foi procurar\n",
    "\n",
    "Além das  montanhas na beira do mar\n",
    "\n",
    "A mamãe gritou: Quá, quá, quá, quá\n",
    "\n",
    "Mas só n-1 patinhos voltaram de lá.\""
   ]
  },
  {
   "cell_type": "code",
   "execution_count": 300,
   "metadata": {},
   "outputs": [
    {
     "name": "stdout",
     "output_type": "stream",
     "text": [
      "n patinhos foram passear | Além das montanhas para brincar | A mamãe gritou: Quá, quá, quá, quá | Mas só n-1 patinhos voltaram de lá.\n",
      "      A mamãe patinha foi procurar | Além das  montanhas na beira do mar | A mamãe gritou: Quá, quá, quá, quá | E os n patinhos voltaran de lá.\n",
      " \n",
      "n patinhos foram passear | Além das montanhas para brincar | A mamãe gritou: Quá, quá, quá, quá | Mas só n-1 patinhos voltaram de lá.\n",
      "      A mamãe patinha foi procurar | Além das  montanhas na beira do mar | A mamãe gritou: Quá, quá, quá, quá | E os n patinhos voltaran de lá.\n",
      " \n",
      "n patinhos foram passear | Além das montanhas para brincar | A mamãe gritou: Quá, quá, quá, quá | Mas só n-1 patinhos voltaram de lá.\n",
      "      A mamãe patinha foi procurar | Além das  montanhas na beira do mar | A mamãe gritou: Quá, quá, quá, quá | E os n patinhos voltaran de lá.\n",
      " \n",
      "n patinhos foram passear | Além das montanhas para brincar | A mamãe gritou: Quá, quá, quá, quá | Mas só n-1 patinhos voltaram de lá.\n",
      "      A mamãe patinha foi procurar | Além das  montanhas na beira do mar | A mamãe gritou: Quá, quá, quá, quá | E os n patinhos voltaran de lá.\n",
      " \n",
      "n patinhos foram passear | Além das montanhas para brincar | A mamãe gritou: Quá, quá, quá, quá | Mas só n-1 patinhos voltaram de lá.\n",
      "      A mamãe patinha foi procurar | Além das  montanhas na beira do mar | A mamãe gritou: Quá, quá, quá, quá | E os n patinhos voltaran de lá.\n",
      " \n"
     ]
    }
   ],
   "source": [
    "# Criar as variáveis para colocar a letra da música\n",
    "letraMusica = \"n patinhos foram passear | Além das montanhas para brincar | A mamãe gritou: Quá, quá, quá, quá | Mas só n-1 patinhos voltaram de lá.\"\n",
    "refrao = \"A mamãe patinha foi procurar | Além das  montanhas na beira do mar | A mamãe gritou: Quá, quá, quá, quá | E os n patinhos voltaran de lá.\"\n",
    "# Repetir a música com while\n",
    "musica = 0\n",
    "while musica <= len([1, 2, 3, 4]):\n",
    "    print(letraMusica)\n",
    "    print(\"     \",refrao)\n",
    "    print(\" \")\n",
    "    musica += 1"
   ]
  },
  {
   "cell_type": "markdown",
   "metadata": {},
   "source": [
    "2."
   ]
  },
  {
   "cell_type": "code",
   "execution_count": 309,
   "metadata": {},
   "outputs": [
    {
     "name": "stdout",
     "output_type": "stream",
     "text": [
      "8 x 1 = 8\n",
      "8 x 2 = 16\n",
      "8 x 3 = 24\n",
      "8 x 4 = 32\n",
      "8 x 5 = 40\n",
      "8 x 6 = 48\n",
      "8 x 7 = 56\n",
      "8 x 8 = 64\n",
      "8 x 9 = 72\n",
      "8 x 10 = 80\n"
     ]
    }
   ],
   "source": [
    "# Pedir um número\n",
    "num = int(input('Digite um número: '))\n",
    "# Criar um laço de repetição para calcular a tabuada do número pedido\n",
    "for numInteiro in range(1, 11):\n",
    "    resultado = num * numInteiro\n",
    "# Mostrar a tabuada\n",
    "    print(f\"{num} x {numInteiro} = {resultado}\")"
   ]
  }
 ],
 "metadata": {
  "kernelspec": {
   "display_name": "Python 3",
   "language": "python",
   "name": "python3"
  },
  "language_info": {
   "codemirror_mode": {
    "name": "ipython",
    "version": 3
   },
   "file_extension": ".py",
   "mimetype": "text/x-python",
   "name": "python",
   "nbconvert_exporter": "python",
   "pygments_lexer": "ipython3",
   "version": "3.10.2"
  }
 },
 "nbformat": 4,
 "nbformat_minor": 2
}
